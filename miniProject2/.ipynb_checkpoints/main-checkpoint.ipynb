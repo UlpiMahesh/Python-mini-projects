{
 "cells": [
  {
   "cell_type": "code",
   "execution_count": 24,
   "id": "568d3ec7-58a7-4419-b9f2-9d919be8d9ac",
   "metadata": {},
   "outputs": [
    {
     "name": "stdout",
     "output_type": "stream",
     "text": [
      "-----------------------> Start the shopping <---------------------\n",
      "                         1. Add item to cart\n",
      "                         2. Remove item from cart\n",
      "                         3. View cart\n",
      "                         4. Update item quantity\n",
      "                         5. Clear cart\n",
      "                         6. Place order\n",
      "                         7. Exit\n"
     ]
    },
    {
     "name": "stdin",
     "output_type": "stream",
     "text": [
      "Enter your choice: 1\n"
     ]
    },
    {
     "name": "stdout",
     "output_type": "stream",
     "text": [
      "Available products to Add to cart :\n",
      "                         1. Laptop - 1N = 40000\n",
      "                         2. Headphones - 1N = 3000\n",
      "                         3. SamsungS22 - 1N = 82000\n",
      "                         4. Shirt - 1N = 600\n",
      "                         5. Pant - 1N = 1200\n",
      "                         6. Apple - 1N = 50\n",
      "                         7. Banana - 1N = 10\n",
      "                         8. Papaya - 1N = 60\n"
     ]
    },
    {
     "name": "stdin",
     "output_type": "stream",
     "text": [
      "Enter the product number from above : 4\n",
      "Enter the product quantity: 5\n"
     ]
    },
    {
     "name": "stdout",
     "output_type": "stream",
     "text": [
      "Last added product to cart  Shirt - $600, Warranty: 6 months, quantity - 5\n",
      "-----------------------> Start the shopping <---------------------\n",
      "                         1. Add item to cart\n",
      "                         2. Remove item from cart\n",
      "                         3. View cart\n",
      "                         4. Update item quantity\n",
      "                         5. Clear cart\n",
      "                         6. Place order\n",
      "                         7. Exit\n"
     ]
    },
    {
     "name": "stdin",
     "output_type": "stream",
     "text": [
      "Enter your choice: 9\n"
     ]
    },
    {
     "name": "stdout",
     "output_type": "stream",
     "text": [
      "You have selected an invalid choice.\n",
      "Cart is cleared please try again with avaliable options.\n"
     ]
    }
   ],
   "source": [
    "\n",
    "\n",
    "class Products:\n",
    "    def __init__(self):\n",
    "        self.available_products=['Laptop', 'Headphones', 'SamsungS22', 'Shirt', 'Pant', 'Apple', 'Banana', 'Papaya']\n",
    "        self.prices = [40000,3000,82000,600,1200,50,10,60]\n",
    "        self.product={}\n",
    "\n",
    "\n",
    "\n",
    "def addToCart():\n",
    "    try:\n",
    "        products = Products()\n",
    "        print(f'''Available products to Add to cart :\n",
    "                         1. Laptop - 1N = 40000\n",
    "                         2. Headphones - 1N = 3000\n",
    "                         3. SamsungS22 - 1N = 82000\n",
    "                         4. Shirt - 1N = 600\n",
    "                         5. Pant - 1N = 1200\n",
    "                         6. Apple - 1N = 50\n",
    "                         7. Banana - 1N = 10\n",
    "                         8. Papaya - 1N = 60''')\n",
    "        product_choice=int(input('Enter the product number from above :'))\n",
    "        if product_choice:\n",
    "            quantity = int(input('Enter the product quantity:'))\n",
    "        products.product = products.product.get(products.available_products[product_choice-1],0)+quantity\n",
    "        \n",
    "        print(f'Last added product to cart  {products.available_products[product_choice-1]} - ${products.prices[product_choice-1]}, Warranty: 6 months, quantity - {quantity}')\n",
    "    except Exception as e:\n",
    "        print(e)\n",
    "    \n",
    "\n",
    "if __name__ == '__main__':\n",
    "    try:\n",
    "    \n",
    "        while True:\n",
    "            print('''-----------------------> Start the shopping <---------------------\n",
    "                         1. Add item to cart\n",
    "                         2. Remove item from cart\n",
    "                         3. View cart\n",
    "                         4. Update item quantity\n",
    "                         5. Clear cart\n",
    "                         6. Place order\n",
    "                         7. Exit''')\n",
    "            choice = int(input('Enter your choice:'))\n",
    "            assert choice<=7 and choice>0, 'You have selected an invalid choice.\\nCart is cleared please try again with avaliable options.'\n",
    "            if choice==1:\n",
    "                addToCart()\n",
    "            elif choice==2:\n",
    "                pass\n",
    "            elif choice==3:\n",
    "                pass\n",
    "            elif choice==4:\n",
    "                pass\n",
    "            elif choice==5:\n",
    "                pass\n",
    "            elif choice==6:\n",
    "                pass\n",
    "            elif choice==7:\n",
    "                print('Logging off thank you. Visit Again!')\n",
    "                break\n",
    "            \n",
    "    except AssertionError as e:\n",
    "        print(str(e))\n",
    "        \n",
    "    "
   ]
  },
  {
   "cell_type": "code",
   "execution_count": null,
   "id": "edb48a6d-fe3b-4cb0-8898-b624410ec925",
   "metadata": {},
   "outputs": [],
   "source": []
  }
 ],
 "metadata": {
  "kernelspec": {
   "display_name": "Python 3 (ipykernel)",
   "language": "python",
   "name": "python3"
  },
  "language_info": {
   "codemirror_mode": {
    "name": "ipython",
    "version": 3
   },
   "file_extension": ".py",
   "mimetype": "text/x-python",
   "name": "python",
   "nbconvert_exporter": "python",
   "pygments_lexer": "ipython3",
   "version": "3.12.7"
  }
 },
 "nbformat": 4,
 "nbformat_minor": 5
}
